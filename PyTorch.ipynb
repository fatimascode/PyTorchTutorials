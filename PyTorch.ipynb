{
  "nbformat": 4,
  "nbformat_minor": 0,
  "metadata": {
    "colab": {
      "provenance": [],
      "authorship_tag": "ABX9TyNVWbycA+2hWLG3sT227H9c",
      "include_colab_link": true
    },
    "kernelspec": {
      "name": "python3",
      "display_name": "Python 3"
    },
    "language_info": {
      "name": "python"
    }
  },
  "cells": [
    {
      "cell_type": "markdown",
      "metadata": {
        "id": "view-in-github",
        "colab_type": "text"
      },
      "source": [
        "<a href=\"https://colab.research.google.com/github/fatimascode/PyTorchTutorials/blob/main/PyTorch.ipynb\" target=\"_parent\"><img src=\"https://colab.research.google.com/assets/colab-badge.svg\" alt=\"Open In Colab\"/></a>"
      ]
    },
    {
      "cell_type": "code",
      "execution_count": 1,
      "metadata": {
        "colab": {
          "base_uri": "https://localhost:8080/"
        },
        "id": "WnM5_qfVWoEW",
        "outputId": "58d132d6-b62c-4783-b9fa-d9d87093c0f3"
      },
      "outputs": [
        {
          "output_type": "stream",
          "name": "stdout",
          "text": [
            "Python version info: 3.10.12 (main, Nov 20 2023, 15:14:05) [GCC 11.4.0]\n",
            "PyTorch version info: 2.2.1+cu121\n"
          ]
        }
      ],
      "source": [
        "import sys\n",
        "import torch\n",
        "import torch.nn as nn\n",
        "print(f'Python version info: {sys.version}')\n",
        "print(f'PyTorch version info: {torch.__version__}')\n",
        "\n",
        "# Import pprint, module we use for making our print statements prettier\n",
        "import pprint\n",
        "pp = pprint.PrettyPrinter()"
      ]
    },
    {
      "cell_type": "code",
      "source": [
        "import numpy as np"
      ],
      "metadata": {
        "id": "GJKe_ssbXUqK"
      },
      "execution_count": 2,
      "outputs": []
    },
    {
      "cell_type": "markdown",
      "source": [
        "**LISTS**"
      ],
      "metadata": {
        "id": "eiWEjk08X88N"
      }
    },
    {
      "cell_type": "code",
      "source": [
        "np1 = np.random.rand(3,4)\n",
        "np1"
      ],
      "metadata": {
        "colab": {
          "base_uri": "https://localhost:8080/"
        },
        "id": "_r_O574LXwx5",
        "outputId": "3bc7915b-8450-4c26-c902-4e900412bfe9"
      },
      "execution_count": 4,
      "outputs": [
        {
          "output_type": "execute_result",
          "data": {
            "text/plain": [
              "array([[0.79065153, 0.02158878, 0.16888321, 0.75165811],\n",
              "       [0.82659709, 0.02742938, 0.70654976, 0.50670704],\n",
              "       [0.88403562, 0.80565566, 0.34516725, 0.769306  ]])"
            ]
          },
          "metadata": {},
          "execution_count": 4
        }
      ]
    },
    {
      "cell_type": "markdown",
      "source": [
        "TENSOR"
      ],
      "metadata": {
        "id": "zxWViNl1X65X"
      }
    },
    {
      "cell_type": "code",
      "source": [
        "tensor_2d = torch.randn(3,4)\n",
        "tensor_2d"
      ],
      "metadata": {
        "colab": {
          "base_uri": "https://localhost:8080/"
        },
        "id": "j-Q70z-EYlFS",
        "outputId": "bc7cc995-07b0-4ff1-91a2-3cdcb010e40d"
      },
      "execution_count": 8,
      "outputs": [
        {
          "output_type": "execute_result",
          "data": {
            "text/plain": [
              "tensor([[ 1.0159,  1.2359, -0.6180, -0.9792],\n",
              "        [-0.1132, -0.8650,  1.2981, -0.8851],\n",
              "        [ 0.7031,  1.6537, -0.7691, -1.8899]])"
            ]
          },
          "metadata": {},
          "execution_count": 8
        }
      ]
    },
    {
      "cell_type": "code",
      "source": [
        "  tensor_from_numpy = torch.tensor(np1)\n",
        "  tensor_from_numpy"
      ],
      "metadata": {
        "colab": {
          "base_uri": "https://localhost:8080/"
        },
        "id": "AdY2GA_cYohJ",
        "outputId": "45becdb0-871d-47ab-d6b8-655de5d7d45a"
      },
      "execution_count": 9,
      "outputs": [
        {
          "output_type": "execute_result",
          "data": {
            "text/plain": [
              "tensor([[0.7907, 0.0216, 0.1689, 0.7517],\n",
              "        [0.8266, 0.0274, 0.7065, 0.5067],\n",
              "        [0.8840, 0.8057, 0.3452, 0.7693]], dtype=torch.float64)"
            ]
          },
          "metadata": {},
          "execution_count": 9
        }
      ]
    },
    {
      "cell_type": "code",
      "source": [],
      "metadata": {
        "id": "WmcBwo_7ZCVM"
      },
      "execution_count": null,
      "outputs": []
    }
  ]
}